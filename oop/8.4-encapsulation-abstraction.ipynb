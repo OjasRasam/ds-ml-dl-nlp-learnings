{
 "cells": [
  {
   "cell_type": "markdown",
   "id": "56084a5a",
   "metadata": {},
   "source": [
    "## Encapsulation and Abstraction\n"
   ]
  },
  {
   "cell_type": "markdown",
   "id": "f2ae1786",
   "metadata": {},
   "source": [
    "#### Encapsulation\n",
    "Encapsulation is the concept of wrapping data (variables) and methods (functions) together as a single unit.\n",
    "It restricts direct access to some of the object's components, which is a means of preventing accidential interference and misuse of the data"
   ]
  },
  {
   "cell_type": "code",
   "execution_count": null,
   "id": "9594c14f",
   "metadata": {},
   "outputs": [
    {
     "data": {
      "text/plain": [
       "'Ojas'"
      ]
     },
     "execution_count": 4,
     "metadata": {},
     "output_type": "execute_result"
    }
   ],
   "source": [
    "# Encapsulation with Getter and Setter Methods\n",
    "# Access variables  : Public, Protected, Private Variables or Access Modifiers\n",
    "\n",
    "class Person:\n",
    "    def __init__(self, name, age):\n",
    "        self.name=name ##Public variable\n",
    "        self.age=age ## Public variable\n",
    "\n",
    "def get_name(person):\n",
    "    return person.name\n",
    "\n",
    "person=Person(\"Ojas\",23)\n",
    "get_name(person)\n"
   ]
  },
  {
   "cell_type": "code",
   "execution_count": 2,
   "id": "b38794de",
   "metadata": {},
   "outputs": [
    {
     "data": {
      "text/plain": [
       "['__class__',\n",
       " '__delattr__',\n",
       " '__dict__',\n",
       " '__dir__',\n",
       " '__doc__',\n",
       " '__eq__',\n",
       " '__firstlineno__',\n",
       " '__format__',\n",
       " '__ge__',\n",
       " '__getattribute__',\n",
       " '__getstate__',\n",
       " '__gt__',\n",
       " '__hash__',\n",
       " '__init__',\n",
       " '__init_subclass__',\n",
       " '__le__',\n",
       " '__lt__',\n",
       " '__module__',\n",
       " '__ne__',\n",
       " '__new__',\n",
       " '__reduce__',\n",
       " '__reduce_ex__',\n",
       " '__repr__',\n",
       " '__setattr__',\n",
       " '__sizeof__',\n",
       " '__static_attributes__',\n",
       " '__str__',\n",
       " '__subclasshook__',\n",
       " '__weakref__',\n",
       " 'age',\n",
       " 'name']"
      ]
     },
     "execution_count": 2,
     "metadata": {},
     "output_type": "execute_result"
    }
   ],
   "source": [
    "dir(person)"
   ]
  },
  {
   "cell_type": "code",
   "execution_count": 12,
   "id": "6dcd18ef",
   "metadata": {},
   "outputs": [
    {
     "data": {
      "text/plain": [
       "'Ojas'"
      ]
     },
     "execution_count": 12,
     "metadata": {},
     "output_type": "execute_result"
    }
   ],
   "source": [
    "\n",
    "\n",
    "class Person:\n",
    "    def __init__(self, name, age, gender):\n",
    "        self.__name=name ##Private variable\n",
    "        self.__age=age ## Private variable\n",
    "        self.gender=gender\n",
    "\n",
    "def get_name(person):\n",
    "    return person._Person__name\n",
    "\n",
    "person1=Person(\"Ojas\", 23, \"Male\")\n",
    "get_name(person1)"
   ]
  },
  {
   "cell_type": "markdown",
   "id": "bf2bd303",
   "metadata": {},
   "source": [
    "### Protected Variables"
   ]
  },
  {
   "cell_type": "code",
   "execution_count": 17,
   "id": "72619d0a",
   "metadata": {},
   "outputs": [
    {
     "name": "stdout",
     "output_type": "stream",
     "text": [
      "Ankit is Happy\n",
      "Ojas is Extatic\n"
     ]
    }
   ],
   "source": [
    "class Person:\n",
    "    def __init__(self,name,age,gender,mood):\n",
    "        self.__name=name    #Private Variable\n",
    "        self._age=age   #Protected Variable\n",
    "        self.gender=gender #Public Variable\n",
    "        self.__mood=mood     #Private Variable\n",
    "\n",
    "def get_mood(person):\n",
    "    return person._Person__mood\n",
    "def get_name(person):\n",
    "    return person._Person__name\n",
    "\n",
    "person1=Person(\"Ankit\", 23, \"Male\", \"Happy\")\n",
    "person2=Person(\"Ojas\", 23, \"Male\", \"Extatic\")\n",
    "print(f\"{get_name(person1)} is {get_mood(person1)}\")\n",
    "print(f\"{get_name(person2)} is {get_mood(person2)}\")"
   ]
  },
  {
   "cell_type": "code",
   "execution_count": 19,
   "id": "22df1aac",
   "metadata": {},
   "outputs": [
    {
     "name": "stdout",
     "output_type": "stream",
     "text": [
      "Ojas\n"
     ]
    }
   ],
   "source": [
    "class Person:\n",
    "    def __init__(self, name, age, gender):\n",
    "        self._name=name #Protected Variable\n",
    "        self._age=age   #Protected Variable\n",
    "        self.gender=gender  #Private Variable\n",
    "\n",
    "class Employee(Person):\n",
    "    def __init__(self, name, age, gender):\n",
    "        super().__init__(name,age,gender)\n",
    "\n",
    "employee=Employee(\"Ojas\", 23, \"Male\")\n",
    "print(employee._name)"
   ]
  },
  {
   "cell_type": "code",
   "execution_count": 21,
   "id": "9a6cb52d",
   "metadata": {},
   "outputs": [
    {
     "name": "stdout",
     "output_type": "stream",
     "text": [
      "Ojas\n",
      "23\n",
      "35\n",
      "Age cannot be Negative or Zero\n",
      "35\n"
     ]
    }
   ],
   "source": [
    "## Encapsulation with getter and setter\n",
    "\n",
    "class Person:\n",
    "    def __init__(self, name, age):\n",
    "        self.__name=name ## Private access modifier or variable\n",
    "        self.__age=age ## Private access modifier or variable\n",
    "\n",
    "    ## getter method for name\n",
    "    def get_name(self):\n",
    "        return self.__name\n",
    "    \n",
    "    ## setter method for name\n",
    "    def set_name(self,name):\n",
    "        self.__name=name\n",
    "\n",
    "    ## Getter method for age\n",
    "    def get_age(self):\n",
    "        return self.__age\n",
    "\n",
    "    ## Setter method for age\n",
    "    def set_age(self,age):\n",
    "        if age > 0:\n",
    "            self.__age = age\n",
    "        else:\n",
    "            print(\"Age cannot be Negative or Zero\")\n",
    "\n",
    "\n",
    "person=Person(\"Ojas\", 23)\n",
    "\n",
    "## Access and modify private variables using getter and setter\n",
    "\n",
    "print(person.get_name())\n",
    "print(person.get_age())\n",
    "\n",
    "person.set_age(35)\n",
    "print(person.get_age())\n",
    "\n",
    "person.set_age(-5)\n",
    "print(person.get_age())"
   ]
  },
  {
   "cell_type": "code",
   "execution_count": null,
   "id": "46b8a11d",
   "metadata": {},
   "outputs": [],
   "source": []
  },
  {
   "cell_type": "code",
   "execution_count": null,
   "id": "3e9d9a6e",
   "metadata": {},
   "outputs": [],
   "source": []
  },
  {
   "cell_type": "code",
   "execution_count": null,
   "id": "54353d9d",
   "metadata": {},
   "outputs": [],
   "source": []
  }
 ],
 "metadata": {
  "kernelspec": {
   "display_name": "base",
   "language": "python",
   "name": "python3"
  },
  "language_info": {
   "codemirror_mode": {
    "name": "ipython",
    "version": 3
   },
   "file_extension": ".py",
   "mimetype": "text/x-python",
   "name": "python",
   "nbconvert_exporter": "python",
   "pygments_lexer": "ipython3",
   "version": "3.13.5"
  }
 },
 "nbformat": 4,
 "nbformat_minor": 5
}
